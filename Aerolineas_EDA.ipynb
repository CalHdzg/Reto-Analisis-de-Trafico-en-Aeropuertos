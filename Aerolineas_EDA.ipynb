{
  "nbformat": 4,
  "nbformat_minor": 0,
  "metadata": {
    "colab": {
      "provenance": [],
      "mount_file_id": "1eXuUMSqMipfVfwqCA4A6eHjbwH7WOKPI",
      "authorship_tag": "ABX9TyMSDsMUp7cZTKM+Xq6O66ZN",
      "include_colab_link": true
    },
    "kernelspec": {
      "name": "python3",
      "display_name": "Python 3"
    },
    "language_info": {
      "name": "python"
    }
  },
  "cells": [
    {
      "cell_type": "markdown",
      "metadata": {
        "id": "view-in-github",
        "colab_type": "text"
      },
      "source": [
        "<a href=\"https://colab.research.google.com/github/CalHdzg/Reto-Analisis-de-Trafico-en-Aeropuertos/blob/main/Aerolineas_EDA.ipynb\" target=\"_parent\"><img src=\"https://colab.research.google.com/assets/colab-badge.svg\" alt=\"Open In Colab\"/></a>"
      ]
    },
    {
      "cell_type": "code",
      "execution_count": 8,
      "metadata": {
        "id": "vNp2Or5OtJgi",
        "colab": {
          "base_uri": "https://localhost:8080/",
          "height": 90
        },
        "outputId": "c1f35ba9-9860-4873-8733-86a869da1870"
      },
      "outputs": [
        {
          "output_type": "display_data",
          "data": {
            "text/plain": [
              "<IPython.core.display.HTML object>"
            ],
            "text/html": [
              "\n",
              "     <input type=\"file\" id=\"files-be9d51d7-9e2d-41f2-a868-bb4c4518e3d1\" name=\"files[]\" multiple disabled\n",
              "        style=\"border:none\" />\n",
              "     <output id=\"result-be9d51d7-9e2d-41f2-a868-bb4c4518e3d1\">\n",
              "      Upload widget is only available when the cell has been executed in the\n",
              "      current browser session. Please rerun this cell to enable.\n",
              "      </output>\n",
              "      <script>// Copyright 2017 Google LLC\n",
              "//\n",
              "// Licensed under the Apache License, Version 2.0 (the \"License\");\n",
              "// you may not use this file except in compliance with the License.\n",
              "// You may obtain a copy of the License at\n",
              "//\n",
              "//      http://www.apache.org/licenses/LICENSE-2.0\n",
              "//\n",
              "// Unless required by applicable law or agreed to in writing, software\n",
              "// distributed under the License is distributed on an \"AS IS\" BASIS,\n",
              "// WITHOUT WARRANTIES OR CONDITIONS OF ANY KIND, either express or implied.\n",
              "// See the License for the specific language governing permissions and\n",
              "// limitations under the License.\n",
              "\n",
              "/**\n",
              " * @fileoverview Helpers for google.colab Python module.\n",
              " */\n",
              "(function(scope) {\n",
              "function span(text, styleAttributes = {}) {\n",
              "  const element = document.createElement('span');\n",
              "  element.textContent = text;\n",
              "  for (const key of Object.keys(styleAttributes)) {\n",
              "    element.style[key] = styleAttributes[key];\n",
              "  }\n",
              "  return element;\n",
              "}\n",
              "\n",
              "// Max number of bytes which will be uploaded at a time.\n",
              "const MAX_PAYLOAD_SIZE = 100 * 1024;\n",
              "\n",
              "function _uploadFiles(inputId, outputId) {\n",
              "  const steps = uploadFilesStep(inputId, outputId);\n",
              "  const outputElement = document.getElementById(outputId);\n",
              "  // Cache steps on the outputElement to make it available for the next call\n",
              "  // to uploadFilesContinue from Python.\n",
              "  outputElement.steps = steps;\n",
              "\n",
              "  return _uploadFilesContinue(outputId);\n",
              "}\n",
              "\n",
              "// This is roughly an async generator (not supported in the browser yet),\n",
              "// where there are multiple asynchronous steps and the Python side is going\n",
              "// to poll for completion of each step.\n",
              "// This uses a Promise to block the python side on completion of each step,\n",
              "// then passes the result of the previous step as the input to the next step.\n",
              "function _uploadFilesContinue(outputId) {\n",
              "  const outputElement = document.getElementById(outputId);\n",
              "  const steps = outputElement.steps;\n",
              "\n",
              "  const next = steps.next(outputElement.lastPromiseValue);\n",
              "  return Promise.resolve(next.value.promise).then((value) => {\n",
              "    // Cache the last promise value to make it available to the next\n",
              "    // step of the generator.\n",
              "    outputElement.lastPromiseValue = value;\n",
              "    return next.value.response;\n",
              "  });\n",
              "}\n",
              "\n",
              "/**\n",
              " * Generator function which is called between each async step of the upload\n",
              " * process.\n",
              " * @param {string} inputId Element ID of the input file picker element.\n",
              " * @param {string} outputId Element ID of the output display.\n",
              " * @return {!Iterable<!Object>} Iterable of next steps.\n",
              " */\n",
              "function* uploadFilesStep(inputId, outputId) {\n",
              "  const inputElement = document.getElementById(inputId);\n",
              "  inputElement.disabled = false;\n",
              "\n",
              "  const outputElement = document.getElementById(outputId);\n",
              "  outputElement.innerHTML = '';\n",
              "\n",
              "  const pickedPromise = new Promise((resolve) => {\n",
              "    inputElement.addEventListener('change', (e) => {\n",
              "      resolve(e.target.files);\n",
              "    });\n",
              "  });\n",
              "\n",
              "  const cancel = document.createElement('button');\n",
              "  inputElement.parentElement.appendChild(cancel);\n",
              "  cancel.textContent = 'Cancel upload';\n",
              "  const cancelPromise = new Promise((resolve) => {\n",
              "    cancel.onclick = () => {\n",
              "      resolve(null);\n",
              "    };\n",
              "  });\n",
              "\n",
              "  // Wait for the user to pick the files.\n",
              "  const files = yield {\n",
              "    promise: Promise.race([pickedPromise, cancelPromise]),\n",
              "    response: {\n",
              "      action: 'starting',\n",
              "    }\n",
              "  };\n",
              "\n",
              "  cancel.remove();\n",
              "\n",
              "  // Disable the input element since further picks are not allowed.\n",
              "  inputElement.disabled = true;\n",
              "\n",
              "  if (!files) {\n",
              "    return {\n",
              "      response: {\n",
              "        action: 'complete',\n",
              "      }\n",
              "    };\n",
              "  }\n",
              "\n",
              "  for (const file of files) {\n",
              "    const li = document.createElement('li');\n",
              "    li.append(span(file.name, {fontWeight: 'bold'}));\n",
              "    li.append(span(\n",
              "        `(${file.type || 'n/a'}) - ${file.size} bytes, ` +\n",
              "        `last modified: ${\n",
              "            file.lastModifiedDate ? file.lastModifiedDate.toLocaleDateString() :\n",
              "                                    'n/a'} - `));\n",
              "    const percent = span('0% done');\n",
              "    li.appendChild(percent);\n",
              "\n",
              "    outputElement.appendChild(li);\n",
              "\n",
              "    const fileDataPromise = new Promise((resolve) => {\n",
              "      const reader = new FileReader();\n",
              "      reader.onload = (e) => {\n",
              "        resolve(e.target.result);\n",
              "      };\n",
              "      reader.readAsArrayBuffer(file);\n",
              "    });\n",
              "    // Wait for the data to be ready.\n",
              "    let fileData = yield {\n",
              "      promise: fileDataPromise,\n",
              "      response: {\n",
              "        action: 'continue',\n",
              "      }\n",
              "    };\n",
              "\n",
              "    // Use a chunked sending to avoid message size limits. See b/62115660.\n",
              "    let position = 0;\n",
              "    do {\n",
              "      const length = Math.min(fileData.byteLength - position, MAX_PAYLOAD_SIZE);\n",
              "      const chunk = new Uint8Array(fileData, position, length);\n",
              "      position += length;\n",
              "\n",
              "      const base64 = btoa(String.fromCharCode.apply(null, chunk));\n",
              "      yield {\n",
              "        response: {\n",
              "          action: 'append',\n",
              "          file: file.name,\n",
              "          data: base64,\n",
              "        },\n",
              "      };\n",
              "\n",
              "      let percentDone = fileData.byteLength === 0 ?\n",
              "          100 :\n",
              "          Math.round((position / fileData.byteLength) * 100);\n",
              "      percent.textContent = `${percentDone}% done`;\n",
              "\n",
              "    } while (position < fileData.byteLength);\n",
              "  }\n",
              "\n",
              "  // All done.\n",
              "  yield {\n",
              "    response: {\n",
              "      action: 'complete',\n",
              "    }\n",
              "  };\n",
              "}\n",
              "\n",
              "scope.google = scope.google || {};\n",
              "scope.google.colab = scope.google.colab || {};\n",
              "scope.google.colab._files = {\n",
              "  _uploadFiles,\n",
              "  _uploadFilesContinue,\n",
              "};\n",
              "})(self);\n",
              "</script> "
            ]
          },
          "metadata": {}
        },
        {
          "output_type": "stream",
          "name": "stdout",
          "text": [
            "Saving Aerolineas Editado.xlsx to Aerolineas Editado.xlsx\n"
          ]
        }
      ],
      "source": [
        "#Para importar el archivo de mi computadora\n",
        "from google.colab import files\n",
        "uploaded = files.upload()"
      ]
    },
    {
      "cell_type": "code",
      "source": [
        "import pandas as pd\n",
        "\n",
        "df = pd.read_excel('/content/Aerolineas Editado.xlsx')"
      ],
      "metadata": {
        "id": "yG2NvmxDJQol"
      },
      "execution_count": 61,
      "outputs": []
    },
    {
      "cell_type": "code",
      "source": [
        "df #Corro al dataframe para ver que se haya extraido correctamente"
      ],
      "metadata": {
        "colab": {
          "base_uri": "https://localhost:8080/",
          "height": 721
        },
        "id": "dGjje8NlKW8Q",
        "outputId": "f51ed618-2f1e-4c94-b2a8-4dc68ae68708"
      },
      "execution_count": 62,
      "outputs": [
        {
          "output_type": "execute_result",
          "data": {
            "text/plain": [
              "        Nivel Satisfacción Airline Status  Edad Rango_edad  Género  \\\n",
              "0                        5           Blue    31      30-39    Male   \n",
              "1                        4           Blue    56      50-59    Male   \n",
              "2                        3           Blue    21      20-29  Female   \n",
              "3                        4           Blue    43      40-49    Male   \n",
              "4                        5         Silver    49      40-49    Male   \n",
              "...                    ...            ...   ...        ...     ...   \n",
              "129884                   2           Blue    85        80+  Female   \n",
              "129885                   2           Blue    16       0-19  Female   \n",
              "129886                   2           Blue    78      70-79  Female   \n",
              "129887                   4           Gold    48      40-49    Male   \n",
              "129888                   3           Blue    59      50-59  Female   \n",
              "\n",
              "             Tipo Viaje  Consumo en Aereopuerto  Consumo en Alimentos  \\\n",
              "0       Business travel                       0                    75   \n",
              "1       Business travel                      15                    60   \n",
              "2       Personal Travel                       0                   135   \n",
              "3       Business travel                      10                    45   \n",
              "4       Business travel                       8                    26   \n",
              "...                 ...                     ...                   ...   \n",
              "129884  Personal Travel                       0                    90   \n",
              "129885  Personal Travel                       0                    10   \n",
              "129886  Personal Travel                     167                   150   \n",
              "129887  Personal Travel                       0                    15   \n",
              "129888  Personal Travel                      15                   120   \n",
              "\n",
              "           Clase Flight date  ... Edo. Origen            CD. Destino  \\\n",
              "0       Business  2021-03-18  ...   Wisconsin  Dallas/Fort Worth, TX   \n",
              "1       Business  2021-01-11  ...   Wisconsin  Dallas/Fort Worth, TX   \n",
              "2       Business  2021-01-25  ...   Wisconsin  Dallas/Fort Worth, TX   \n",
              "3            Eco  2021-02-20  ...   Wisconsin  Dallas/Fort Worth, TX   \n",
              "4            Eco  2021-02-25  ...   Wisconsin  Dallas/Fort Worth, TX   \n",
              "...          ...         ...  ...         ...                    ...   \n",
              "129884  Eco Plus  2021-02-23  ...  California          San Diego, CA   \n",
              "129885  Eco Plus  2021-03-09  ...  California        Los Angeles, CA   \n",
              "129886  Eco Plus  2021-02-08  ...  California      San Francisco, CA   \n",
              "129887  Eco Plus  2021-03-02  ...  California      San Francisco, CA   \n",
              "129888  Eco Plus  2021-02-04  ...  California      San Francisco, CA   \n",
              "\n",
              "       Edo. Destino Horario Salida Retraso Salida (Min) Retraso Llegado (Min)  \\\n",
              "0             Texas             15                  0.0                   3.0   \n",
              "1             Texas             11                  2.0                   5.0   \n",
              "2             Texas             12                 34.0                  14.0   \n",
              "3             Texas             11                 26.0                  39.0   \n",
              "4             Texas             12                  0.0                   0.0   \n",
              "...             ...            ...                  ...                   ...   \n",
              "129884   California             19                  2.0                   3.0   \n",
              "129885   California             14                  0.0                   0.0   \n",
              "129886   California              7                  6.0                  14.0   \n",
              "129887   California              9                 31.0                  22.0   \n",
              "129888   California              7                  0.0                   0.0   \n",
              "\n",
              "        Cancelación  Tiempo vuelo (min)  Distancia Vuelo Retraso Mayor 5 Min  \n",
              "0                No               134.0              821                  no  \n",
              "1                No               120.0              821                  no  \n",
              "2                No               122.0              853                 yes  \n",
              "3                No               141.0              821                 yes  \n",
              "4                No               144.0              853                  no  \n",
              "...             ...                 ...              ...                 ...  \n",
              "129884           No                69.0              447                  no  \n",
              "129885           No                53.0              308                  no  \n",
              "129886           No                72.0              337                 yes  \n",
              "129887           No                56.0              337                 yes  \n",
              "129888           No                59.0              337                  no  \n",
              "\n",
              "[129889 rows x 23 columns]"
            ],
            "text/html": [
              "\n",
              "  <div id=\"df-cd099cdf-b9ed-4600-ade8-261c3b8ee4bb\" class=\"colab-df-container\">\n",
              "    <div>\n",
              "<style scoped>\n",
              "    .dataframe tbody tr th:only-of-type {\n",
              "        vertical-align: middle;\n",
              "    }\n",
              "\n",
              "    .dataframe tbody tr th {\n",
              "        vertical-align: top;\n",
              "    }\n",
              "\n",
              "    .dataframe thead th {\n",
              "        text-align: right;\n",
              "    }\n",
              "</style>\n",
              "<table border=\"1\" class=\"dataframe\">\n",
              "  <thead>\n",
              "    <tr style=\"text-align: right;\">\n",
              "      <th></th>\n",
              "      <th>Nivel Satisfacción</th>\n",
              "      <th>Airline Status</th>\n",
              "      <th>Edad</th>\n",
              "      <th>Rango_edad</th>\n",
              "      <th>Género</th>\n",
              "      <th>Tipo Viaje</th>\n",
              "      <th>Consumo en Aereopuerto</th>\n",
              "      <th>Consumo en Alimentos</th>\n",
              "      <th>Clase</th>\n",
              "      <th>Flight date</th>\n",
              "      <th>...</th>\n",
              "      <th>Edo. Origen</th>\n",
              "      <th>CD. Destino</th>\n",
              "      <th>Edo. Destino</th>\n",
              "      <th>Horario Salida</th>\n",
              "      <th>Retraso Salida (Min)</th>\n",
              "      <th>Retraso Llegado (Min)</th>\n",
              "      <th>Cancelación</th>\n",
              "      <th>Tiempo vuelo (min)</th>\n",
              "      <th>Distancia Vuelo</th>\n",
              "      <th>Retraso Mayor 5 Min</th>\n",
              "    </tr>\n",
              "  </thead>\n",
              "  <tbody>\n",
              "    <tr>\n",
              "      <th>0</th>\n",
              "      <td>5</td>\n",
              "      <td>Blue</td>\n",
              "      <td>31</td>\n",
              "      <td>30-39</td>\n",
              "      <td>Male</td>\n",
              "      <td>Business travel</td>\n",
              "      <td>0</td>\n",
              "      <td>75</td>\n",
              "      <td>Business</td>\n",
              "      <td>2021-03-18</td>\n",
              "      <td>...</td>\n",
              "      <td>Wisconsin</td>\n",
              "      <td>Dallas/Fort Worth, TX</td>\n",
              "      <td>Texas</td>\n",
              "      <td>15</td>\n",
              "      <td>0.0</td>\n",
              "      <td>3.0</td>\n",
              "      <td>No</td>\n",
              "      <td>134.0</td>\n",
              "      <td>821</td>\n",
              "      <td>no</td>\n",
              "    </tr>\n",
              "    <tr>\n",
              "      <th>1</th>\n",
              "      <td>4</td>\n",
              "      <td>Blue</td>\n",
              "      <td>56</td>\n",
              "      <td>50-59</td>\n",
              "      <td>Male</td>\n",
              "      <td>Business travel</td>\n",
              "      <td>15</td>\n",
              "      <td>60</td>\n",
              "      <td>Business</td>\n",
              "      <td>2021-01-11</td>\n",
              "      <td>...</td>\n",
              "      <td>Wisconsin</td>\n",
              "      <td>Dallas/Fort Worth, TX</td>\n",
              "      <td>Texas</td>\n",
              "      <td>11</td>\n",
              "      <td>2.0</td>\n",
              "      <td>5.0</td>\n",
              "      <td>No</td>\n",
              "      <td>120.0</td>\n",
              "      <td>821</td>\n",
              "      <td>no</td>\n",
              "    </tr>\n",
              "    <tr>\n",
              "      <th>2</th>\n",
              "      <td>3</td>\n",
              "      <td>Blue</td>\n",
              "      <td>21</td>\n",
              "      <td>20-29</td>\n",
              "      <td>Female</td>\n",
              "      <td>Personal Travel</td>\n",
              "      <td>0</td>\n",
              "      <td>135</td>\n",
              "      <td>Business</td>\n",
              "      <td>2021-01-25</td>\n",
              "      <td>...</td>\n",
              "      <td>Wisconsin</td>\n",
              "      <td>Dallas/Fort Worth, TX</td>\n",
              "      <td>Texas</td>\n",
              "      <td>12</td>\n",
              "      <td>34.0</td>\n",
              "      <td>14.0</td>\n",
              "      <td>No</td>\n",
              "      <td>122.0</td>\n",
              "      <td>853</td>\n",
              "      <td>yes</td>\n",
              "    </tr>\n",
              "    <tr>\n",
              "      <th>3</th>\n",
              "      <td>4</td>\n",
              "      <td>Blue</td>\n",
              "      <td>43</td>\n",
              "      <td>40-49</td>\n",
              "      <td>Male</td>\n",
              "      <td>Business travel</td>\n",
              "      <td>10</td>\n",
              "      <td>45</td>\n",
              "      <td>Eco</td>\n",
              "      <td>2021-02-20</td>\n",
              "      <td>...</td>\n",
              "      <td>Wisconsin</td>\n",
              "      <td>Dallas/Fort Worth, TX</td>\n",
              "      <td>Texas</td>\n",
              "      <td>11</td>\n",
              "      <td>26.0</td>\n",
              "      <td>39.0</td>\n",
              "      <td>No</td>\n",
              "      <td>141.0</td>\n",
              "      <td>821</td>\n",
              "      <td>yes</td>\n",
              "    </tr>\n",
              "    <tr>\n",
              "      <th>4</th>\n",
              "      <td>5</td>\n",
              "      <td>Silver</td>\n",
              "      <td>49</td>\n",
              "      <td>40-49</td>\n",
              "      <td>Male</td>\n",
              "      <td>Business travel</td>\n",
              "      <td>8</td>\n",
              "      <td>26</td>\n",
              "      <td>Eco</td>\n",
              "      <td>2021-02-25</td>\n",
              "      <td>...</td>\n",
              "      <td>Wisconsin</td>\n",
              "      <td>Dallas/Fort Worth, TX</td>\n",
              "      <td>Texas</td>\n",
              "      <td>12</td>\n",
              "      <td>0.0</td>\n",
              "      <td>0.0</td>\n",
              "      <td>No</td>\n",
              "      <td>144.0</td>\n",
              "      <td>853</td>\n",
              "      <td>no</td>\n",
              "    </tr>\n",
              "    <tr>\n",
              "      <th>...</th>\n",
              "      <td>...</td>\n",
              "      <td>...</td>\n",
              "      <td>...</td>\n",
              "      <td>...</td>\n",
              "      <td>...</td>\n",
              "      <td>...</td>\n",
              "      <td>...</td>\n",
              "      <td>...</td>\n",
              "      <td>...</td>\n",
              "      <td>...</td>\n",
              "      <td>...</td>\n",
              "      <td>...</td>\n",
              "      <td>...</td>\n",
              "      <td>...</td>\n",
              "      <td>...</td>\n",
              "      <td>...</td>\n",
              "      <td>...</td>\n",
              "      <td>...</td>\n",
              "      <td>...</td>\n",
              "      <td>...</td>\n",
              "      <td>...</td>\n",
              "    </tr>\n",
              "    <tr>\n",
              "      <th>129884</th>\n",
              "      <td>2</td>\n",
              "      <td>Blue</td>\n",
              "      <td>85</td>\n",
              "      <td>80+</td>\n",
              "      <td>Female</td>\n",
              "      <td>Personal Travel</td>\n",
              "      <td>0</td>\n",
              "      <td>90</td>\n",
              "      <td>Eco Plus</td>\n",
              "      <td>2021-02-23</td>\n",
              "      <td>...</td>\n",
              "      <td>California</td>\n",
              "      <td>San Diego, CA</td>\n",
              "      <td>California</td>\n",
              "      <td>19</td>\n",
              "      <td>2.0</td>\n",
              "      <td>3.0</td>\n",
              "      <td>No</td>\n",
              "      <td>69.0</td>\n",
              "      <td>447</td>\n",
              "      <td>no</td>\n",
              "    </tr>\n",
              "    <tr>\n",
              "      <th>129885</th>\n",
              "      <td>2</td>\n",
              "      <td>Blue</td>\n",
              "      <td>16</td>\n",
              "      <td>0-19</td>\n",
              "      <td>Female</td>\n",
              "      <td>Personal Travel</td>\n",
              "      <td>0</td>\n",
              "      <td>10</td>\n",
              "      <td>Eco Plus</td>\n",
              "      <td>2021-03-09</td>\n",
              "      <td>...</td>\n",
              "      <td>California</td>\n",
              "      <td>Los Angeles, CA</td>\n",
              "      <td>California</td>\n",
              "      <td>14</td>\n",
              "      <td>0.0</td>\n",
              "      <td>0.0</td>\n",
              "      <td>No</td>\n",
              "      <td>53.0</td>\n",
              "      <td>308</td>\n",
              "      <td>no</td>\n",
              "    </tr>\n",
              "    <tr>\n",
              "      <th>129886</th>\n",
              "      <td>2</td>\n",
              "      <td>Blue</td>\n",
              "      <td>78</td>\n",
              "      <td>70-79</td>\n",
              "      <td>Female</td>\n",
              "      <td>Personal Travel</td>\n",
              "      <td>167</td>\n",
              "      <td>150</td>\n",
              "      <td>Eco Plus</td>\n",
              "      <td>2021-02-08</td>\n",
              "      <td>...</td>\n",
              "      <td>California</td>\n",
              "      <td>San Francisco, CA</td>\n",
              "      <td>California</td>\n",
              "      <td>7</td>\n",
              "      <td>6.0</td>\n",
              "      <td>14.0</td>\n",
              "      <td>No</td>\n",
              "      <td>72.0</td>\n",
              "      <td>337</td>\n",
              "      <td>yes</td>\n",
              "    </tr>\n",
              "    <tr>\n",
              "      <th>129887</th>\n",
              "      <td>4</td>\n",
              "      <td>Gold</td>\n",
              "      <td>48</td>\n",
              "      <td>40-49</td>\n",
              "      <td>Male</td>\n",
              "      <td>Personal Travel</td>\n",
              "      <td>0</td>\n",
              "      <td>15</td>\n",
              "      <td>Eco Plus</td>\n",
              "      <td>2021-03-02</td>\n",
              "      <td>...</td>\n",
              "      <td>California</td>\n",
              "      <td>San Francisco, CA</td>\n",
              "      <td>California</td>\n",
              "      <td>9</td>\n",
              "      <td>31.0</td>\n",
              "      <td>22.0</td>\n",
              "      <td>No</td>\n",
              "      <td>56.0</td>\n",
              "      <td>337</td>\n",
              "      <td>yes</td>\n",
              "    </tr>\n",
              "    <tr>\n",
              "      <th>129888</th>\n",
              "      <td>3</td>\n",
              "      <td>Blue</td>\n",
              "      <td>59</td>\n",
              "      <td>50-59</td>\n",
              "      <td>Female</td>\n",
              "      <td>Personal Travel</td>\n",
              "      <td>15</td>\n",
              "      <td>120</td>\n",
              "      <td>Eco Plus</td>\n",
              "      <td>2021-02-04</td>\n",
              "      <td>...</td>\n",
              "      <td>California</td>\n",
              "      <td>San Francisco, CA</td>\n",
              "      <td>California</td>\n",
              "      <td>7</td>\n",
              "      <td>0.0</td>\n",
              "      <td>0.0</td>\n",
              "      <td>No</td>\n",
              "      <td>59.0</td>\n",
              "      <td>337</td>\n",
              "      <td>no</td>\n",
              "    </tr>\n",
              "  </tbody>\n",
              "</table>\n",
              "<p>129889 rows × 23 columns</p>\n",
              "</div>\n",
              "    <div class=\"colab-df-buttons\">\n",
              "\n",
              "  <div class=\"colab-df-container\">\n",
              "    <button class=\"colab-df-convert\" onclick=\"convertToInteractive('df-cd099cdf-b9ed-4600-ade8-261c3b8ee4bb')\"\n",
              "            title=\"Convert this dataframe to an interactive table.\"\n",
              "            style=\"display:none;\">\n",
              "\n",
              "  <svg xmlns=\"http://www.w3.org/2000/svg\" height=\"24px\" viewBox=\"0 -960 960 960\">\n",
              "    <path d=\"M120-120v-720h720v720H120Zm60-500h600v-160H180v160Zm220 220h160v-160H400v160Zm0 220h160v-160H400v160ZM180-400h160v-160H180v160Zm440 0h160v-160H620v160ZM180-180h160v-160H180v160Zm440 0h160v-160H620v160Z\"/>\n",
              "  </svg>\n",
              "    </button>\n",
              "\n",
              "  <style>\n",
              "    .colab-df-container {\n",
              "      display:flex;\n",
              "      gap: 12px;\n",
              "    }\n",
              "\n",
              "    .colab-df-convert {\n",
              "      background-color: #E8F0FE;\n",
              "      border: none;\n",
              "      border-radius: 50%;\n",
              "      cursor: pointer;\n",
              "      display: none;\n",
              "      fill: #1967D2;\n",
              "      height: 32px;\n",
              "      padding: 0 0 0 0;\n",
              "      width: 32px;\n",
              "    }\n",
              "\n",
              "    .colab-df-convert:hover {\n",
              "      background-color: #E2EBFA;\n",
              "      box-shadow: 0px 1px 2px rgba(60, 64, 67, 0.3), 0px 1px 3px 1px rgba(60, 64, 67, 0.15);\n",
              "      fill: #174EA6;\n",
              "    }\n",
              "\n",
              "    .colab-df-buttons div {\n",
              "      margin-bottom: 4px;\n",
              "    }\n",
              "\n",
              "    [theme=dark] .colab-df-convert {\n",
              "      background-color: #3B4455;\n",
              "      fill: #D2E3FC;\n",
              "    }\n",
              "\n",
              "    [theme=dark] .colab-df-convert:hover {\n",
              "      background-color: #434B5C;\n",
              "      box-shadow: 0px 1px 3px 1px rgba(0, 0, 0, 0.15);\n",
              "      filter: drop-shadow(0px 1px 2px rgba(0, 0, 0, 0.3));\n",
              "      fill: #FFFFFF;\n",
              "    }\n",
              "  </style>\n",
              "\n",
              "    <script>\n",
              "      const buttonEl =\n",
              "        document.querySelector('#df-cd099cdf-b9ed-4600-ade8-261c3b8ee4bb button.colab-df-convert');\n",
              "      buttonEl.style.display =\n",
              "        google.colab.kernel.accessAllowed ? 'block' : 'none';\n",
              "\n",
              "      async function convertToInteractive(key) {\n",
              "        const element = document.querySelector('#df-cd099cdf-b9ed-4600-ade8-261c3b8ee4bb');\n",
              "        const dataTable =\n",
              "          await google.colab.kernel.invokeFunction('convertToInteractive',\n",
              "                                                    [key], {});\n",
              "        if (!dataTable) return;\n",
              "\n",
              "        const docLinkHtml = 'Like what you see? Visit the ' +\n",
              "          '<a target=\"_blank\" href=https://colab.research.google.com/notebooks/data_table.ipynb>data table notebook</a>'\n",
              "          + ' to learn more about interactive tables.';\n",
              "        element.innerHTML = '';\n",
              "        dataTable['output_type'] = 'display_data';\n",
              "        await google.colab.output.renderOutput(dataTable, element);\n",
              "        const docLink = document.createElement('div');\n",
              "        docLink.innerHTML = docLinkHtml;\n",
              "        element.appendChild(docLink);\n",
              "      }\n",
              "    </script>\n",
              "  </div>\n",
              "\n",
              "\n",
              "<div id=\"df-365cd5ab-846f-4714-b125-b996b9a47e90\">\n",
              "  <button class=\"colab-df-quickchart\" onclick=\"quickchart('df-365cd5ab-846f-4714-b125-b996b9a47e90')\"\n",
              "            title=\"Suggest charts\"\n",
              "            style=\"display:none;\">\n",
              "\n",
              "<svg xmlns=\"http://www.w3.org/2000/svg\" height=\"24px\"viewBox=\"0 0 24 24\"\n",
              "     width=\"24px\">\n",
              "    <g>\n",
              "        <path d=\"M19 3H5c-1.1 0-2 .9-2 2v14c0 1.1.9 2 2 2h14c1.1 0 2-.9 2-2V5c0-1.1-.9-2-2-2zM9 17H7v-7h2v7zm4 0h-2V7h2v10zm4 0h-2v-4h2v4z\"/>\n",
              "    </g>\n",
              "</svg>\n",
              "  </button>\n",
              "\n",
              "<style>\n",
              "  .colab-df-quickchart {\n",
              "      --bg-color: #E8F0FE;\n",
              "      --fill-color: #1967D2;\n",
              "      --hover-bg-color: #E2EBFA;\n",
              "      --hover-fill-color: #174EA6;\n",
              "      --disabled-fill-color: #AAA;\n",
              "      --disabled-bg-color: #DDD;\n",
              "  }\n",
              "\n",
              "  [theme=dark] .colab-df-quickchart {\n",
              "      --bg-color: #3B4455;\n",
              "      --fill-color: #D2E3FC;\n",
              "      --hover-bg-color: #434B5C;\n",
              "      --hover-fill-color: #FFFFFF;\n",
              "      --disabled-bg-color: #3B4455;\n",
              "      --disabled-fill-color: #666;\n",
              "  }\n",
              "\n",
              "  .colab-df-quickchart {\n",
              "    background-color: var(--bg-color);\n",
              "    border: none;\n",
              "    border-radius: 50%;\n",
              "    cursor: pointer;\n",
              "    display: none;\n",
              "    fill: var(--fill-color);\n",
              "    height: 32px;\n",
              "    padding: 0;\n",
              "    width: 32px;\n",
              "  }\n",
              "\n",
              "  .colab-df-quickchart:hover {\n",
              "    background-color: var(--hover-bg-color);\n",
              "    box-shadow: 0 1px 2px rgba(60, 64, 67, 0.3), 0 1px 3px 1px rgba(60, 64, 67, 0.15);\n",
              "    fill: var(--button-hover-fill-color);\n",
              "  }\n",
              "\n",
              "  .colab-df-quickchart-complete:disabled,\n",
              "  .colab-df-quickchart-complete:disabled:hover {\n",
              "    background-color: var(--disabled-bg-color);\n",
              "    fill: var(--disabled-fill-color);\n",
              "    box-shadow: none;\n",
              "  }\n",
              "\n",
              "  .colab-df-spinner {\n",
              "    border: 2px solid var(--fill-color);\n",
              "    border-color: transparent;\n",
              "    border-bottom-color: var(--fill-color);\n",
              "    animation:\n",
              "      spin 1s steps(1) infinite;\n",
              "  }\n",
              "\n",
              "  @keyframes spin {\n",
              "    0% {\n",
              "      border-color: transparent;\n",
              "      border-bottom-color: var(--fill-color);\n",
              "      border-left-color: var(--fill-color);\n",
              "    }\n",
              "    20% {\n",
              "      border-color: transparent;\n",
              "      border-left-color: var(--fill-color);\n",
              "      border-top-color: var(--fill-color);\n",
              "    }\n",
              "    30% {\n",
              "      border-color: transparent;\n",
              "      border-left-color: var(--fill-color);\n",
              "      border-top-color: var(--fill-color);\n",
              "      border-right-color: var(--fill-color);\n",
              "    }\n",
              "    40% {\n",
              "      border-color: transparent;\n",
              "      border-right-color: var(--fill-color);\n",
              "      border-top-color: var(--fill-color);\n",
              "    }\n",
              "    60% {\n",
              "      border-color: transparent;\n",
              "      border-right-color: var(--fill-color);\n",
              "    }\n",
              "    80% {\n",
              "      border-color: transparent;\n",
              "      border-right-color: var(--fill-color);\n",
              "      border-bottom-color: var(--fill-color);\n",
              "    }\n",
              "    90% {\n",
              "      border-color: transparent;\n",
              "      border-bottom-color: var(--fill-color);\n",
              "    }\n",
              "  }\n",
              "</style>\n",
              "\n",
              "  <script>\n",
              "    async function quickchart(key) {\n",
              "      const quickchartButtonEl =\n",
              "        document.querySelector('#' + key + ' button');\n",
              "      quickchartButtonEl.disabled = true;  // To prevent multiple clicks.\n",
              "      quickchartButtonEl.classList.add('colab-df-spinner');\n",
              "      try {\n",
              "        const charts = await google.colab.kernel.invokeFunction(\n",
              "            'suggestCharts', [key], {});\n",
              "      } catch (error) {\n",
              "        console.error('Error during call to suggestCharts:', error);\n",
              "      }\n",
              "      quickchartButtonEl.classList.remove('colab-df-spinner');\n",
              "      quickchartButtonEl.classList.add('colab-df-quickchart-complete');\n",
              "    }\n",
              "    (() => {\n",
              "      let quickchartButtonEl =\n",
              "        document.querySelector('#df-365cd5ab-846f-4714-b125-b996b9a47e90 button');\n",
              "      quickchartButtonEl.style.display =\n",
              "        google.colab.kernel.accessAllowed ? 'block' : 'none';\n",
              "    })();\n",
              "  </script>\n",
              "</div>\n",
              "    </div>\n",
              "  </div>\n"
            ]
          },
          "metadata": {},
          "execution_count": 62
        }
      ]
    },
    {
      "cell_type": "code",
      "source": [
        "df.columns"
      ],
      "metadata": {
        "colab": {
          "base_uri": "https://localhost:8080/"
        },
        "id": "yVNynd8ELkYa",
        "outputId": "e3d07347-0e20-49ad-d473-10f7f4ff1f8f"
      },
      "execution_count": 22,
      "outputs": [
        {
          "output_type": "execute_result",
          "data": {
            "text/plain": [
              "Index(['Nivel Satisfacción', 'Airline Status', 'Edad', 'Rango_edad', 'Género',\n",
              "       'Tipo Viaje', 'Consumo en Aereopuerto', 'Consumo en Alimentos', 'Clase',\n",
              "       'Flight date', 'Airline Code', 'Airline Name', 'CD. Origen',\n",
              "       'Edo. Origen', 'CD. Destino', 'Edo. Destino', 'Horario Salida',\n",
              "       'Retraso Salida (Min)', 'Retraso Llegado (Min)', 'Cancelación',\n",
              "       'Tiempo vuelo (min)', 'Distancia Vuelo', 'Retraso Mayor 5 Min'],\n",
              "      dtype='object')"
            ]
          },
          "metadata": {},
          "execution_count": 22
        }
      ]
    },
    {
      "cell_type": "code",
      "source": [
        "df['Nivel Satisfacción'].value_counts()"
      ],
      "metadata": {
        "colab": {
          "base_uri": "https://localhost:8080/"
        },
        "id": "4pC_I96UJ3hE",
        "outputId": "447bd7a0-6a4d-4190-a817-4baa08ecff0e"
      },
      "execution_count": 23,
      "outputs": [
        {
          "output_type": "execute_result",
          "data": {
            "text/plain": [
              "4    53763\n",
              "3    36986\n",
              "2    23587\n",
              "5    12554\n",
              "1     2999\n",
              "Name: Nivel Satisfacción, dtype: int64"
            ]
          },
          "metadata": {},
          "execution_count": 23
        }
      ]
    },
    {
      "cell_type": "code",
      "source": [
        "df['Airline Status'].value_counts()"
      ],
      "metadata": {
        "colab": {
          "base_uri": "https://localhost:8080/"
        },
        "id": "-yKLqJ1tK6_v",
        "outputId": "cc0d19bb-5d04-4ddc-aa34-6881a9827410"
      },
      "execution_count": 24,
      "outputs": [
        {
          "output_type": "execute_result",
          "data": {
            "text/plain": [
              "Blue        88910\n",
              "Silver      25970\n",
              "Gold        10837\n",
              "Platinum     4172\n",
              "Name: Airline Status, dtype: int64"
            ]
          },
          "metadata": {},
          "execution_count": 24
        }
      ]
    },
    {
      "cell_type": "code",
      "source": [
        "print(df['Edad'].min(), df['Edad'].max())\n",
        "df['Edad'].value_counts()"
      ],
      "metadata": {
        "colab": {
          "base_uri": "https://localhost:8080/"
        },
        "id": "IDngRE9zLWXq",
        "outputId": "3325bfcb-3f5d-4d68-c73a-1b31a91fa7b1"
      },
      "execution_count": 30,
      "outputs": [
        {
          "output_type": "stream",
          "name": "stdout",
          "text": [
            "15 85\n"
          ]
        },
        {
          "output_type": "execute_result",
          "data": {
            "text/plain": [
              "80    3705\n",
              "41    2935\n",
              "39    2905\n",
              "43    2876\n",
              "42    2859\n",
              "      ... \n",
              "75     971\n",
              "77     966\n",
              "76     948\n",
              "78     843\n",
              "79     761\n",
              "Name: Edad, Length: 67, dtype: int64"
            ]
          },
          "metadata": {},
          "execution_count": 30
        }
      ]
    },
    {
      "cell_type": "code",
      "source": [
        "df['Rango_edad'].value_counts()"
      ],
      "metadata": {
        "colab": {
          "base_uri": "https://localhost:8080/"
        },
        "id": "zkOReR6fLbri",
        "outputId": "cd1ea6a7-3dd8-4923-af2c-b4075f1f9a77"
      },
      "execution_count": 31,
      "outputs": [
        {
          "output_type": "execute_result",
          "data": {
            "text/plain": [
              "40-49    27466\n",
              "30-39    26321\n",
              "50-59    21988\n",
              "60-69    15496\n",
              "20-29    15474\n",
              "70-79     9796\n",
              "0-19      8092\n",
              "80+       5256\n",
              "Name: Rango_edad, dtype: int64"
            ]
          },
          "metadata": {},
          "execution_count": 31
        }
      ]
    },
    {
      "cell_type": "code",
      "source": [
        "df['Género'].value_counts()"
      ],
      "metadata": {
        "colab": {
          "base_uri": "https://localhost:8080/"
        },
        "id": "Bx9mLnnkLfdK",
        "outputId": "9b65a996-933c-453d-e3f4-9225110619da"
      },
      "execution_count": 32,
      "outputs": [
        {
          "output_type": "execute_result",
          "data": {
            "text/plain": [
              "Female    73374\n",
              "Male      56515\n",
              "Name: Género, dtype: int64"
            ]
          },
          "metadata": {},
          "execution_count": 32
        }
      ]
    },
    {
      "cell_type": "code",
      "source": [
        "df['Tipo Viaje'].value_counts()"
      ],
      "metadata": {
        "colab": {
          "base_uri": "https://localhost:8080/"
        },
        "id": "36D6hPI1LfTy",
        "outputId": "ed18617e-eec6-499f-af36-16f68392673a"
      },
      "execution_count": 33,
      "outputs": [
        {
          "output_type": "execute_result",
          "data": {
            "text/plain": [
              "Business travel    79630\n",
              "Personal Travel    40189\n",
              "Mileage tickets    10070\n",
              "Name: Tipo Viaje, dtype: int64"
            ]
          },
          "metadata": {},
          "execution_count": 33
        }
      ]
    },
    {
      "cell_type": "code",
      "source": [
        "print(df['Consumo en Aereopuerto'].max())\n",
        "df['Consumo en Aereopuerto'].value_counts()"
      ],
      "metadata": {
        "colab": {
          "base_uri": "https://localhost:8080/"
        },
        "id": "n-m52BPiLfKm",
        "outputId": "9d5cc525-7413-4b3f-bed4-c07acf645bf4"
      },
      "execution_count": 63,
      "outputs": [
        {
          "output_type": "stream",
          "name": "stdout",
          "text": [
            "879\n"
          ]
        },
        {
          "output_type": "execute_result",
          "data": {
            "text/plain": [
              "0      73900\n",
              "60      5212\n",
              "30      5026\n",
              "10      4596\n",
              "5       4093\n",
              "       ...  \n",
              "640        1\n",
              "402        1\n",
              "515        1\n",
              "308        1\n",
              "720        1\n",
              "Name: Consumo en Aereopuerto, Length: 427, dtype: int64"
            ]
          },
          "metadata": {},
          "execution_count": 63
        }
      ]
    },
    {
      "cell_type": "code",
      "source": [
        "# Cambio el nombre de la clase anterior, que tiene un error.\n",
        "df.rename(columns={'Consumo en Aereopuerto':'Consumo en Aeropuerto'}, inplace=True)"
      ],
      "metadata": {
        "id": "3Ao92QuIc157"
      },
      "execution_count": 110,
      "outputs": []
    },
    {
      "cell_type": "code",
      "source": [
        "print(df['Consumo en Aeropuerto'].max())\n",
        "df['Consumo en Aeropuerto'].value_counts()"
      ],
      "metadata": {
        "colab": {
          "base_uri": "https://localhost:8080/"
        },
        "id": "FoY3WYYYebdd",
        "outputId": "d0fe114b-a235-46de-cbc1-227edfcec916"
      },
      "execution_count": 66,
      "outputs": [
        {
          "output_type": "stream",
          "name": "stdout",
          "text": [
            "879\n"
          ]
        },
        {
          "output_type": "execute_result",
          "data": {
            "text/plain": [
              "0      73900\n",
              "60      5212\n",
              "30      5026\n",
              "10      4596\n",
              "5       4093\n",
              "       ...  \n",
              "640        1\n",
              "402        1\n",
              "515        1\n",
              "308        1\n",
              "720        1\n",
              "Name: Consumo en Aeropuerto, Length: 427, dtype: int64"
            ]
          },
          "metadata": {},
          "execution_count": 66
        }
      ]
    },
    {
      "cell_type": "code",
      "source": [
        "print(df['Consumo en Alimentos'].max())\n",
        "df['Consumo en Alimentos'].value_counts()"
      ],
      "metadata": {
        "colab": {
          "base_uri": "https://localhost:8080/"
        },
        "id": "1NmYPLaBLfBy",
        "outputId": "fb54092f-2ae9-4e98-9d9f-61a8451c7295"
      },
      "execution_count": 47,
      "outputs": [
        {
          "output_type": "stream",
          "name": "stdout",
          "text": [
            "895\n"
          ]
        },
        {
          "output_type": "execute_result",
          "data": {
            "text/plain": [
              "30     13583\n",
              "60     13507\n",
              "90      8691\n",
              "45      7015\n",
              "0       6065\n",
              "       ...  \n",
              "550        1\n",
              "277        1\n",
              "451        1\n",
              "818        1\n",
              "448        1\n",
              "Name: Consumo en Alimentos, Length: 425, dtype: int64"
            ]
          },
          "metadata": {},
          "execution_count": 47
        }
      ]
    },
    {
      "cell_type": "code",
      "source": [
        "df['Clase'].value_counts()"
      ],
      "metadata": {
        "colab": {
          "base_uri": "https://localhost:8080/"
        },
        "id": "_a5KgN99Le4y",
        "outputId": "1253f8c7-c99d-43fd-9f27-ce853b4d627c"
      },
      "execution_count": 39,
      "outputs": [
        {
          "output_type": "execute_result",
          "data": {
            "text/plain": [
              "Eco         105735\n",
              "Eco Plus     13606\n",
              "Business     10548\n",
              "Name: Clase, dtype: int64"
            ]
          },
          "metadata": {},
          "execution_count": 39
        }
      ]
    },
    {
      "cell_type": "code",
      "source": [
        "# Cambio el tipo de valor anterior para que lo reconozca como fecha\n",
        "df['Flight date'] = pd.to_datetime(df['Flight date'])\n",
        "\n",
        "print(df['Flight date'].value_counts())\n",
        "print(df['Flight date'].min(), df['Flight date'].max())"
      ],
      "metadata": {
        "colab": {
          "base_uri": "https://localhost:8080/"
        },
        "id": "77Uw2sSvLeu7",
        "outputId": "0ea99d56-89b8-4e4c-81cc-2464576e4416"
      },
      "execution_count": 70,
      "outputs": [
        {
          "output_type": "stream",
          "name": "stdout",
          "text": [
            "2021-03-13    1641\n",
            "2021-03-10    1640\n",
            "2021-03-21    1638\n",
            "2021-03-26    1628\n",
            "2021-03-27    1622\n",
            "              ... \n",
            "2021-01-11    1147\n",
            "2021-01-25    1125\n",
            "2021-02-01    1121\n",
            "2021-02-08    1094\n",
            "2021-01-18    1066\n",
            "Name: Flight date, Length: 90, dtype: int64\n",
            "2021-01-01 00:00:00 2021-03-31 00:00:00\n"
          ]
        }
      ]
    },
    {
      "cell_type": "code",
      "source": [
        "print(df['Flight date'].value_counts())\n"
      ],
      "metadata": {
        "colab": {
          "base_uri": "https://localhost:8080/"
        },
        "id": "eCVp7hmCfZWt",
        "outputId": "2f7fa038-f1d2-4706-d7c5-94b753a0bd39"
      },
      "execution_count": 111,
      "outputs": [
        {
          "output_type": "stream",
          "name": "stdout",
          "text": [
            "2021-03-13    1641\n",
            "2021-03-10    1640\n",
            "2021-03-21    1638\n",
            "2021-03-26    1628\n",
            "2021-03-27    1622\n",
            "              ... \n",
            "2021-01-11    1147\n",
            "2021-01-25    1125\n",
            "2021-02-01    1121\n",
            "2021-02-08    1094\n",
            "2021-01-18    1066\n",
            "Name: Flight date, Length: 90, dtype: int64\n"
          ]
        }
      ]
    },
    {
      "cell_type": "code",
      "source": [
        "df['Airline Code'].value_counts()"
      ],
      "metadata": {
        "colab": {
          "base_uri": "https://localhost:8080/"
        },
        "id": "uduPI2ZbLeli",
        "outputId": "19655925-7da4-4c46-9fa7-fbae74208d70"
      },
      "execution_count": 74,
      "outputs": [
        {
          "output_type": "execute_result",
          "data": {
            "text/plain": [
              "WN    26058\n",
              "DL    17037\n",
              "EV    15407\n",
              "OO    13840\n",
              "AA    12248\n",
              "OU    10968\n",
              "US     9577\n",
              "MQ     8927\n",
              "B6     5395\n",
              "AS     3407\n",
              "FL     2481\n",
              "HA     1688\n",
              "F9     1568\n",
              "VX     1288\n",
              "Name: Airline Code, dtype: int64"
            ]
          },
          "metadata": {},
          "execution_count": 74
        }
      ]
    },
    {
      "cell_type": "code",
      "source": [
        "df['Airline Name'].value_counts()"
      ],
      "metadata": {
        "colab": {
          "base_uri": "https://localhost:8080/"
        },
        "id": "bn8mitA-OXNH",
        "outputId": "054adb5e-1621-4b58-f498-a3eb5b540b3d"
      },
      "execution_count": 76,
      "outputs": [
        {
          "output_type": "execute_result",
          "data": {
            "text/plain": [
              "Cheapseats Airlines Inc.             26058\n",
              "Sigma Airlines Inc.                  17037\n",
              "FlyFast Airways Inc.                 15407\n",
              "Northwest Business Airlines Inc.     13840\n",
              "Paul Smith Airlines Inc.             12248\n",
              "Oursin Airlines Inc.                 10968\n",
              "Southeast Airlines Co.                9577\n",
              "EnjoyFlying Air Services              8927\n",
              "OnlyJets Airlines Inc.                5395\n",
              "FlyToSun Airlines Inc.                3407\n",
              "FlyHere Airways                       2481\n",
              "West Airways Inc.                     1688\n",
              "GoingNorth Airlines Inc.              1568\n",
              "Cool&Young Airlines Inc.              1288\n",
              "Name: Airline Name, dtype: int64"
            ]
          },
          "metadata": {},
          "execution_count": 76
        }
      ]
    },
    {
      "cell_type": "code",
      "source": [
        "df['CD. Origen'].value_counts()"
      ],
      "metadata": {
        "colab": {
          "base_uri": "https://localhost:8080/"
        },
        "id": "Srrmaf59Lecu",
        "outputId": "50fb4a21-195e-4f3b-f136-6381fc440481"
      },
      "execution_count": 77,
      "outputs": [
        {
          "output_type": "execute_result",
          "data": {
            "text/plain": [
              "Atlanta, GA                8428\n",
              "Chicago, IL                7641\n",
              "Dallas/Fort Worth, TX      6236\n",
              "Houston, TX                5461\n",
              "Los Angeles, CA            5083\n",
              "                           ... \n",
              "Kodiak, AK                    7\n",
              "Vernal, UT                    6\n",
              "North Bend/Coos Bay, OR       5\n",
              "Moab, UT                      5\n",
              "Adak Island, AK               3\n",
              "Name: CD. Origen, Length: 295, dtype: int64"
            ]
          },
          "metadata": {},
          "execution_count": 77
        }
      ]
    },
    {
      "cell_type": "code",
      "source": [
        "df['Edo. Origen'].value_counts()"
      ],
      "metadata": {
        "colab": {
          "base_uri": "https://localhost:8080/"
        },
        "id": "8HNH2CNCLeTi",
        "outputId": "515e21fa-b380-4ab2-974c-c26aa9a63df7"
      },
      "execution_count": 80,
      "outputs": [
        {
          "output_type": "execute_result",
          "data": {
            "text/plain": [
              "California                                        16751\n",
              "Texas                                             16346\n",
              "Florida                                           10894\n",
              "Georgia                                            8751\n",
              "Illinois                                           7989\n",
              "Colorado                                           5690\n",
              "New York                                           5627\n",
              "Arizona                                            4362\n",
              "North Carolina                                     3890\n",
              "Virginia                                           3572\n",
              "Nevada                                             3458\n",
              "Michigan                                           2738\n",
              "Utah                                               2522\n",
              "Pennsylvania                                       2493\n",
              "New Jersey                                         2491\n",
              "Washington                                         2433\n",
              "Massachusetts                                      2317\n",
              "Minnesota                                          2309\n",
              "Missouri                                           2289\n",
              "Hawaii                                             2195\n",
              "Maryland                                           1969\n",
              "Ohio                                               1885\n",
              "Tennessee                                          1859\n",
              "Louisiana                                          1644\n",
              "Oregon                                             1490\n",
              "Wisconsin                                          1191\n",
              "Oklahoma                                            897\n",
              "Indiana                                             891\n",
              "Kentucky                                            874\n",
              "Alaska                                              738\n",
              "Alabama                                             705\n",
              "Puerto Rico                                         700\n",
              "New Mexico                                          630\n",
              "Arkansas                                            601\n",
              "South Carolina                                      590\n",
              "Nebraska                                            550\n",
              "Connecticut                                         489\n",
              "Idaho                                               396\n",
              "Iowa                                                381\n",
              "Montana                                             357\n",
              "Mississippi                                         307\n",
              "Kansas                                              270\n",
              "Wyoming                                             264\n",
              "Rhode Island                                        258\n",
              "North Dakota                                        245\n",
              "South Dakota                                        226\n",
              "New Hampshire                                       135\n",
              "Maine                                                95\n",
              "West Virginia                                        60\n",
              "Vermont                                              57\n",
              "Delaware                                             10\n",
              "U.S. Pacific Trust Territories and Possessions        8\n",
              "Name: Edo. Origen, dtype: int64"
            ]
          },
          "metadata": {},
          "execution_count": 80
        }
      ]
    },
    {
      "cell_type": "code",
      "source": [
        "df['CD. Destino'].value_counts()"
      ],
      "metadata": {
        "colab": {
          "base_uri": "https://localhost:8080/"
        },
        "id": "RCsr5vsALeKO",
        "outputId": "b7e1d8f2-466a-4189-c12e-cbbc84c2cb88"
      },
      "execution_count": 81,
      "outputs": [
        {
          "output_type": "execute_result",
          "data": {
            "text/plain": [
              "Atlanta, GA              8685\n",
              "Chicago, IL              7575\n",
              "Dallas/Fort Worth, TX    6215\n",
              "Houston, TX              5336\n",
              "Los Angeles, CA          5091\n",
              "                         ... \n",
              "Marquette, MI               6\n",
              "Vernal, UT                  4\n",
              "Pago Pago, TT               4\n",
              "Moab, UT                    3\n",
              "Adak Island, AK             3\n",
              "Name: CD. Destino, Length: 296, dtype: int64"
            ]
          },
          "metadata": {},
          "execution_count": 81
        }
      ]
    },
    {
      "cell_type": "code",
      "source": [
        "df['Edo. Destino'].value_counts()"
      ],
      "metadata": {
        "colab": {
          "base_uri": "https://localhost:8080/"
        },
        "id": "tJxGRgAFLeAa",
        "outputId": "846cca00-7fe3-411f-91b1-a7ed84e45ece"
      },
      "execution_count": 82,
      "outputs": [
        {
          "output_type": "execute_result",
          "data": {
            "text/plain": [
              "California                                        16513\n",
              "Texas                                             16189\n",
              "Florida                                           10873\n",
              "Georgia                                            9030\n",
              "Illinois                                           7896\n",
              "New York                                           5696\n",
              "Colorado                                           5674\n",
              "Arizona                                            4378\n",
              "North Carolina                                     3932\n",
              "Virginia                                           3511\n",
              "Nevada                                             3477\n",
              "Michigan                                           2666\n",
              "Utah                                               2551\n",
              "New Jersey                                         2453\n",
              "Pennsylvania                                       2451\n",
              "Washington                                         2410\n",
              "Minnesota                                          2363\n",
              "Massachusetts                                      2351\n",
              "Missouri                                           2295\n",
              "Hawaii                                             2193\n",
              "Tennessee                                          1955\n",
              "Maryland                                           1939\n",
              "Ohio                                               1834\n",
              "Louisiana                                          1639\n",
              "Oregon                                             1476\n",
              "Wisconsin                                          1200\n",
              "Oklahoma                                            971\n",
              "Kentucky                                            902\n",
              "Indiana                                             869\n",
              "Alaska                                              753\n",
              "Alabama                                             746\n",
              "Puerto Rico                                         652\n",
              "Arkansas                                            640\n",
              "New Mexico                                          623\n",
              "South Carolina                                      602\n",
              "Nebraska                                            502\n",
              "Connecticut                                         483\n",
              "Iowa                                                397\n",
              "Idaho                                               395\n",
              "Montana                                             364\n",
              "Mississippi                                         317\n",
              "Kansas                                              280\n",
              "Rhode Island                                        276\n",
              "North Dakota                                        250\n",
              "South Dakota                                        247\n",
              "Wyoming                                             245\n",
              "New Hampshire                                       144\n",
              "Maine                                               116\n",
              "Vermont                                              75\n",
              "West Virginia                                        68\n",
              "Delaware                                             16\n",
              "U.S. Pacific Trust Territories and Possessions       11\n",
              "Name: Edo. Destino, dtype: int64"
            ]
          },
          "metadata": {},
          "execution_count": 82
        }
      ]
    },
    {
      "cell_type": "code",
      "source": [
        "print(df['Horario Salida'].min(), df['Horario Salida'].max())\n",
        "df['Horario Salida'].value_counts()\n"
      ],
      "metadata": {
        "colab": {
          "base_uri": "https://localhost:8080/"
        },
        "id": "VLDkyPxgLd27",
        "outputId": "1ff3150f-27d1-4771-a585-40753f6d0920"
      },
      "execution_count": 84,
      "outputs": [
        {
          "output_type": "stream",
          "name": "stdout",
          "text": [
            "1 23\n"
          ]
        },
        {
          "output_type": "execute_result",
          "data": {
            "text/plain": [
              "8     9392\n",
              "17    9308\n",
              "6     8894\n",
              "7     8666\n",
              "11    8556\n",
              "13    8528\n",
              "10    8413\n",
              "12    8266\n",
              "14    8166\n",
              "15    7874\n",
              "16    7848\n",
              "9     7839\n",
              "19    7509\n",
              "18    7403\n",
              "20    5221\n",
              "21    3818\n",
              "22    1752\n",
              "5     1531\n",
              "23     662\n",
              "1       95\n",
              "3       67\n",
              "2       41\n",
              "4       40\n",
              "Name: Horario Salida, dtype: int64"
            ]
          },
          "metadata": {},
          "execution_count": 84
        }
      ]
    },
    {
      "cell_type": "code",
      "source": [
        "print(df['Retraso Salida (Min)'].min(), df['Retraso Salida (Min)'].max())\n",
        "df['Retraso Salida (Min)'].value_counts()"
      ],
      "metadata": {
        "colab": {
          "base_uri": "https://localhost:8080/"
        },
        "id": "fdAgXuWXNzRB",
        "outputId": "e307f4e5-a400-4f8b-fb02-5e8a79200e44"
      },
      "execution_count": 86,
      "outputs": [
        {
          "output_type": "stream",
          "name": "stdout",
          "text": [
            "0.0 1592.0\n"
          ]
        },
        {
          "output_type": "execute_result",
          "data": {
            "text/plain": [
              "0.0      71017\n",
              "1.0       3683\n",
              "2.0       2855\n",
              "3.0       2535\n",
              "4.0       2309\n",
              "         ...  \n",
              "566.0        1\n",
              "501.0        1\n",
              "460.0        1\n",
              "455.0        1\n",
              "359.0        1\n",
              "Name: Retraso Salida (Min), Length: 466, dtype: int64"
            ]
          },
          "metadata": {},
          "execution_count": 86
        }
      ]
    },
    {
      "cell_type": "code",
      "source": [
        "print(df['Retraso Llegado (Min)'].min(), df['Retraso Llegado (Min)'].max())\n",
        "df['Retraso Llegado (Min)'].value_counts()"
      ],
      "metadata": {
        "colab": {
          "base_uri": "https://localhost:8080/"
        },
        "id": "CfYDd4ZyNzIQ",
        "outputId": "15978cba-de00-4e75-d910-62b2879b8b16"
      },
      "execution_count": 88,
      "outputs": [
        {
          "output_type": "stream",
          "name": "stdout",
          "text": [
            "0.0 1584.0\n"
          ]
        },
        {
          "output_type": "execute_result",
          "data": {
            "text/plain": [
              "0.0       70414\n",
              "1.0        2747\n",
              "2.0        2587\n",
              "3.0        2443\n",
              "4.0        2373\n",
              "          ...  \n",
              "1011.0        1\n",
              "386.0         1\n",
              "624.0         1\n",
              "355.0         1\n",
              "412.0         1\n",
              "Name: Retraso Llegado (Min), Length: 472, dtype: int64"
            ]
          },
          "metadata": {},
          "execution_count": 88
        }
      ]
    },
    {
      "cell_type": "code",
      "source": [
        "df['Cancelación'].value_counts()"
      ],
      "metadata": {
        "colab": {
          "base_uri": "https://localhost:8080/"
        },
        "id": "-pg66NnENy_n",
        "outputId": "228e7f84-7347-40d6-89b2-40ce1be8adfa"
      },
      "execution_count": 89,
      "outputs": [
        {
          "output_type": "execute_result",
          "data": {
            "text/plain": [
              "No     127488\n",
              "Yes      2401\n",
              "Name: Cancelación, dtype: int64"
            ]
          },
          "metadata": {},
          "execution_count": 89
        }
      ]
    },
    {
      "cell_type": "code",
      "source": [
        "# Cambio el anterior a Booleano\n",
        "df['Cancelación'] = df['Cancelación'].map({'Yes': True, 'No': False})"
      ],
      "metadata": {
        "id": "aRh4Eqbqo9R0"
      },
      "execution_count": 91,
      "outputs": []
    },
    {
      "cell_type": "code",
      "source": [
        "df['Cancelación'].value_counts()"
      ],
      "metadata": {
        "colab": {
          "base_uri": "https://localhost:8080/"
        },
        "id": "wIBI103XqkG7",
        "outputId": "9f8ac5d8-b7ef-434b-c6cd-45af372032cf"
      },
      "execution_count": 92,
      "outputs": [
        {
          "output_type": "execute_result",
          "data": {
            "text/plain": [
              "False    127488\n",
              "True       2401\n",
              "Name: Cancelación, dtype: int64"
            ]
          },
          "metadata": {},
          "execution_count": 92
        }
      ]
    },
    {
      "cell_type": "code",
      "source": [
        "print(df['Tiempo vuelo (min)'].min(), df['Tiempo vuelo (min)'].max())\n",
        "df['Tiempo vuelo (min)'].value_counts()"
      ],
      "metadata": {
        "colab": {
          "base_uri": "https://localhost:8080/"
        },
        "id": "g1-bf_NWNy3Q",
        "outputId": "168f4b60-93bc-4649-d883-bf1483200f07"
      },
      "execution_count": 102,
      "outputs": [
        {
          "output_type": "stream",
          "name": "stdout",
          "text": [
            "8.0 669.0\n"
          ]
        },
        {
          "output_type": "execute_result",
          "data": {
            "text/plain": [
              "59.0     1163\n",
              "53.0     1148\n",
              "63.0     1146\n",
              "44.0     1142\n",
              "54.0     1130\n",
              "         ... \n",
              "653.0       1\n",
              "669.0       1\n",
              "646.0       1\n",
              "637.0       1\n",
              "610.0       1\n",
              "Name: Tiempo vuelo (min), Length: 506, dtype: int64"
            ]
          },
          "metadata": {},
          "execution_count": 102
        }
      ]
    },
    {
      "cell_type": "code",
      "source": [
        "print(df['Distancia Vuelo'].min(), df['Distancia Vuelo'].max())\n",
        "df['Distancia Vuelo'].value_counts()"
      ],
      "metadata": {
        "colab": {
          "base_uri": "https://localhost:8080/"
        },
        "id": "LuS9qtrGNyu4",
        "outputId": "16396bc4-e258-4fb1-d0a7-428fafdc20c9"
      },
      "execution_count": 104,
      "outputs": [
        {
          "output_type": "stream",
          "name": "stdout",
          "text": [
            "31 4983\n"
          ]
        },
        {
          "output_type": "execute_result",
          "data": {
            "text/plain": [
              "337     1095\n",
              "594      682\n",
              "862      652\n",
              "404      625\n",
              "447      594\n",
              "        ... \n",
              "232        1\n",
              "886        1\n",
              "428        1\n",
              "155        1\n",
              "2021       1\n",
              "Name: Distancia Vuelo, Length: 1231, dtype: int64"
            ]
          },
          "metadata": {},
          "execution_count": 104
        }
      ]
    },
    {
      "cell_type": "code",
      "source": [
        "# Cambio el nombre de la categoría para especificar que es en millas\n",
        "df.rename(columns={'Distancia Vuelo':'Distancia Vuelo (mi)'}, inplace=True)"
      ],
      "metadata": {
        "id": "qJdx585vuPeH"
      },
      "execution_count": 105,
      "outputs": []
    },
    {
      "cell_type": "code",
      "source": [
        "print(df['Distancia Vuelo (mi)'].min(), df['Distancia Vuelo (mi)'].max())\n",
        "df['Distancia Vuelo (mi)'].value_counts()"
      ],
      "metadata": {
        "colab": {
          "base_uri": "https://localhost:8080/"
        },
        "id": "1ioXtIXeuoC7",
        "outputId": "7eef765e-0972-4493-c6ae-8d9798d2f8a3"
      },
      "execution_count": 106,
      "outputs": [
        {
          "output_type": "stream",
          "name": "stdout",
          "text": [
            "31 4983\n"
          ]
        },
        {
          "output_type": "execute_result",
          "data": {
            "text/plain": [
              "337     1095\n",
              "594      682\n",
              "862      652\n",
              "404      625\n",
              "447      594\n",
              "        ... \n",
              "232        1\n",
              "886        1\n",
              "428        1\n",
              "155        1\n",
              "2021       1\n",
              "Name: Distancia Vuelo (mi), Length: 1231, dtype: int64"
            ]
          },
          "metadata": {},
          "execution_count": 106
        }
      ]
    },
    {
      "cell_type": "code",
      "source": [
        "df['Retraso Mayor 5 Min'].value_counts()"
      ],
      "metadata": {
        "colab": {
          "base_uri": "https://localhost:8080/"
        },
        "id": "qB1h95mnNyl0",
        "outputId": "03c305b5-1263-47ee-9479-1d944d80cc54"
      },
      "execution_count": 107,
      "outputs": [
        {
          "output_type": "execute_result",
          "data": {
            "text/plain": [
              "no     85385\n",
              "yes    44504\n",
              "Name: Retraso Mayor 5 Min, dtype: int64"
            ]
          },
          "metadata": {},
          "execution_count": 107
        }
      ]
    },
    {
      "cell_type": "code",
      "source": [
        "# Cambio el anterior a Booleano\n",
        "df['Retraso Mayor 5 Min'] = df['Retraso Mayor 5 Min'].map({'yes': True, 'no': False})"
      ],
      "metadata": {
        "id": "Y_BNRimOyMNI"
      },
      "execution_count": 108,
      "outputs": []
    },
    {
      "cell_type": "code",
      "source": [
        "df['Retraso Mayor 5 Min'].value_counts()"
      ],
      "metadata": {
        "colab": {
          "base_uri": "https://localhost:8080/"
        },
        "id": "pK4UaMg3yTl4",
        "outputId": "15c9ba19-de72-495b-c529-fdca3573cd85"
      },
      "execution_count": 109,
      "outputs": [
        {
          "output_type": "execute_result",
          "data": {
            "text/plain": [
              "False    85385\n",
              "True     44504\n",
              "Name: Retraso Mayor 5 Min, dtype: int64"
            ]
          },
          "metadata": {},
          "execution_count": 109
        }
      ]
    },
    {
      "cell_type": "code",
      "source": [
        "df.to_excel('Aerolineas limpiado.xlsx', index=False)"
      ],
      "metadata": {
        "id": "JJK6nTIEynmD"
      },
      "execution_count": 114,
      "outputs": []
    }
  ]
}